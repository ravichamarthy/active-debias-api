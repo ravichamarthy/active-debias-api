{
 "cells": [
  {
   "cell_type": "code",
   "execution_count": 18,
   "metadata": {},
   "outputs": [],
   "source": [
    "import json\n",
    "import requests\n",
    "import base64\n",
    "from requests.auth import HTTPBasicAuth\n",
    "import time\n",
    "import pandas as pd"
   ]
  },
  {
   "cell_type": "code",
   "execution_count": 6,
   "metadata": {},
   "outputs": [],
   "source": [
    "CLOUD_API_KEY = \"R4ZmoGqWaQyxy5370P_eEP7N4iWZpUJWpfbPzQ6IAGG0\"\n",
    "IAM_URL=\"https://iam.ng.bluemix.net/oidc/token\""
   ]
  },
  {
   "cell_type": "code",
   "execution_count": 77,
   "metadata": {},
   "outputs": [],
   "source": [
    "def generate_access_token():\n",
    "    headers={}\n",
    "    headers[\"Content-Type\"] = \"application/x-www-form-urlencoded\"\n",
    "    headers[\"Accept\"] = \"application/json\"\n",
    "    auth = HTTPBasicAuth(\"bx\", \"bx\")\n",
    "    data = {\n",
    "        \"grant_type\": \"urn:ibm:params:oauth:grant-type:apikey\",\n",
    "        \"apikey\": CLOUD_API_KEY\n",
    "    }\n",
    "    response = requests.post(IAM_URL, data=data, headers=headers, auth=auth)\n",
    "    json_data = response.json()\n",
    "    iam_access_token = json_data['access_token']\n",
    "    return iam_access_token"
   ]
  },
  {
   "cell_type": "code",
   "execution_count": 78,
   "metadata": {},
   "outputs": [],
   "source": [
    "headers = {}\n",
    "headers[\"Content-Type\"] = \"application/json\"\n",
    "headers[\"Accept\"] = \"application/json\"\n",
    "headers[\"Authorization\"] = \"Bearer {}\".format(generate_access_token())"
   ]
  },
  {
   "cell_type": "code",
   "execution_count": 79,
   "metadata": {},
   "outputs": [
    {
     "data": {
      "text/plain": [
       "'https://api.aiopenscale.cloud.ibm.com/v1/data_marts/2ee58274-88bd-48b8-84b1-c8f42d40cfe0/service_bindings/3cfa0171-5dc2-4928-a348-c65c05a32565/subscriptions/7fe7073b-e1f7-45e2-991b-04f6546b1f0b/deployments/047089bb-9fad-444e-b603-dec8a6684c4b/online'"
      ]
     },
     "execution_count": 79,
     "metadata": {},
     "output_type": "execute_result"
    }
   ],
   "source": [
    "data_mart_id = '2ee58274-88bd-48b8-84b1-c8f42d40cfe0'\n",
    "service_binding_id = '3cfa0171-5dc2-4928-a348-c65c05a32565'\n",
    "subscription_id = '7fe7073b-e1f7-45e2-991b-04f6546b1f0b'\n",
    "deployment_id = '047089bb-9fad-444e-b603-dec8a6684c4b'\n",
    "\n",
    "URL = 'https://api.aiopenscale.cloud.ibm.com/v1/data_marts/' + data_mart_id + '/service_bindings/'+ service_binding_id + '/subscriptions/' + subscription_id + '/deployments/' + deployment_id +'/online'\n",
    "URL"
   ]
  },
  {
   "cell_type": "code",
   "execution_count": 103,
   "metadata": {},
   "outputs": [],
   "source": [
    "# feature on which we want to check the fairness\n",
    "feature = 'Sex'\n",
    "\n",
    "# the favorable prediction value\n",
    "favorable = 'No Risk'\n",
    "\n",
    "# the unfavorable prediction value\n",
    "unfavorable = 'Risk'\n",
    "\n",
    "# the unprivileged/minority group\n",
    "minority = 'female'\n",
    "\n",
    "# the privileged/majority group\n",
    "majority = 'male'"
   ]
  },
  {
   "cell_type": "code",
   "execution_count": 104,
   "metadata": {},
   "outputs": [],
   "source": [
    "def get_data_distribution(df, label):\n",
    "    # the favorable data frame\n",
    "    favorable_df = df.loc[df[label] == favorable]\n",
    "\n",
    "    # the unfavorable data frame\n",
    "    unfavorable_df = df.loc[df[label] == unfavorable]\n",
    "\n",
    "    # the filtered minority data frame\n",
    "    minority_df = df.loc[df[feature] == minority]\n",
    "\n",
    "    # the filtered majority data frame\n",
    "    majority_df = df.loc[df[feature] == majority]\n",
    "\n",
    "    # the filtered data frame comprising of majority population getting favorable values\n",
    "    minority_favorable_df = favorable_df.loc[df[feature] == minority]\n",
    "\n",
    "    # the filtered data frame comprising of majority population getting favorable values\n",
    "    majority_favorable_df = favorable_df.loc[df[feature] == majority]\n",
    "\n",
    "    # the filtered data frame comprising of minority population getting unfavorable values\n",
    "    minority_unfavorable_df = unfavorable_df.loc[df[feature] == minority]\n",
    "\n",
    "    # the filtered data frame comprising of majority population getting unfavorable values\n",
    "    majority_unfavorable_df = unfavorable_df.loc[df[feature] == majority]\n",
    "\n",
    "    # find the rate at which minority population received favorable outcome\n",
    "    favorable_minority_rate = len(minority_favorable_df) / len(minority_df)\n",
    "\n",
    "    # find the rate at which majority population received favorable outcome\n",
    "    favorable_majority_rate = len(majority_favorable_df) / len(majority_df)\n",
    "    \n",
    "    return minority_df, majority_df, minority_favorable_df, majority_favorable_df, minority_unfavorable_df, majority_unfavorable_df, favorable_minority_rate, favorable_majority_rate"
   ]
  },
  {
   "cell_type": "code",
   "execution_count": 87,
   "metadata": {},
   "outputs": [
    {
     "name": "stdout",
     "output_type": "stream",
     "text": [
      "--2019-12-11 14:14:49--  https://raw.githubusercontent.com/ravichamarthy/german-credit/master/credit_risk_training_modified_1711.csv\n",
      "Resolving raw.githubusercontent.com (raw.githubusercontent.com)... 199.232.8.133\n",
      "Connecting to raw.githubusercontent.com (raw.githubusercontent.com)|199.232.8.133|:443... connected.\n",
      "HTTP request sent, awaiting response... 200 OK\n",
      "Length: 947513 (925K) [text/plain]\n",
      "Saving to: ‘credit_risk_training_modified_1711.csv.1’\n",
      "\n",
      "100%[======================================>] 947,513     --.-K/s   in 0.04s   \n",
      "\n",
      "2019-12-11 14:14:49 (22.3 MB/s) - ‘credit_risk_training_modified_1711.csv.1’ saved [947513/947513]\n",
      "\n"
     ]
    }
   ],
   "source": [
    "# fields = [\"CheckingStatus\",\"LoanDuration\",\"CreditHistory\",\"LoanPurpose\",\"LoanAmount\",\"ExistingSavings\",\"EmploymentDuration\",\"InstallmentPercent\",\"Sex\",\"OthersOnLoan\",\"CurrentResidenceDuration\",\"OwnsProperty\",\"Age\",\"InstallmentPlans\",\"Housing\",\"ExistingCreditsCount\",\"Job\",\"Dependents\",\"Telephone\",\"ForeignWorker\"]\n",
    "# values = [\n",
    "#   [\"no_checking\",13,\"credits_paid_to_date\",\"car_new\",1343,\"100_to_500\",\"1_to_4\",2,\"female\",\"none\",3,\"savings_insurance\",46,\"none\",\"own\",2,\"skilled\",1,\"none\",\"yes\"],\n",
    "#   [\"no_checking\",24,\"prior_payments_delayed\",\"furniture\",4567,\"500_to_1000\",\"1_to_4\",4,\"male\",\"none\",4,\"savings_insurance\",36,\"none\",\"free\",2,\"management_self-employed\",1,\"none\",\"yes\"],\n",
    "#   [\"0_to_200\",26,\"all_credits_paid_back\",\"car_new\",863,\"less_100\",\"less_1\",2,\"female\",\"co-applicant\",2,\"real_estate\",38,\"none\",\"own\",1,\"skilled\",1,\"none\",\"yes\"],\n",
    "#   [\"0_to_200\",14,\"no_credits\",\"car_new\",2368,\"less_100\",\"1_to_4\",3,\"female\",\"none\",3,\"real_estate\",29,\"none\",\"own\",1,\"skilled\",1,\"none\",\"yes\"],\n",
    "#   [\"0_to_200\",4,\"no_credits\",\"car_new\",250,\"less_100\",\"unemployed\",2,\"female\",\"none\",3,\"real_estate\",23,\"none\",\"rent\",1,\"management_self-employed\",1,\"none\",\"yes\"],\n",
    "#   [\"no_checking\",17,\"credits_paid_to_date\",\"car_new\",832,\"100_to_500\",\"1_to_4\",2,\"male\",\"none\",2,\"real_estate\",42,\"none\",\"own\",1,\"skilled\",1,\"none\",\"yes\"],\n",
    "#   [\"no_checking\",33,\"outstanding_credit\",\"appliances\",5696,\"unknown\",\"greater_7\",4,\"male\",\"co-applicant\",4,\"unknown\",54,\"none\",\"free\",2,\"skilled\",1,\"yes\",\"yes\"],\n",
    "#   [\"0_to_200\",13,\"prior_payments_delayed\",\"retraining\",1375,\"100_to_500\",\"4_to_7\",3,\"male\",\"none\",3,\"real_estate\",37,\"none\",\"own\",2,\"management_self-employed\",1,\"none\",\"yes\"]\n",
    "# ]\n",
    "\n",
    "#!wget https://raw.githubusercontent.com/IBM/monitor-wml-model-with-watson-openscale/master/data/german_credit_data_biased_training.csv\n",
    "!wget https://raw.githubusercontent.com/ravichamarthy/german-credit/master/credit_risk_training_modified_1711.csv\n",
    "#!wget https://raw.githubusercontent.com/ravichamarthy/german-credit/master/score_payloads_1.json\n",
    "#!wget https://raw.githubusercontent.com/ravichamarthy/german-credit/master/german_credit_data_biased_test.csv"
   ]
  },
  {
   "cell_type": "code",
   "execution_count": 93,
   "metadata": {},
   "outputs": [
    {
     "name": "stdout",
     "output_type": "stream",
     "text": [
      "scoring_request_df length:3442\n"
     ]
    }
   ],
   "source": [
    "scoring_request_all = pd.read_csv(\"credit_risk_training_modified_1711.csv\", sep=\",\", header=0)\n",
    "scoring_request_df = scoring_request_all.sample(frac=0.5)\n",
    "print('scoring_request_df length:'+str(len(scoring_request_df)))\n",
    "\n",
    "# import io\n",
    "# with io.open(\"score_payloads_1.json\", \"r\", encoding = \"utf-8\") as my_file:\n",
    "#     data_str = my_file.read()\n",
    "#     payload_scoring = json.loads(data_str)"
   ]
  },
  {
   "cell_type": "code",
   "execution_count": 106,
   "metadata": {},
   "outputs": [
    {
     "name": "stdout",
     "output_type": "stream",
     "text": [
      "Number of minorities/unprivileged population in manual data(female) :840\n",
      "Number of majorities/privilaged population in manual data(male) :2602\n",
      "Number of minorities with favorable outcomes in manual data(female) :698\n",
      "Number of majorities with favorable outcomes in manual data(male) :2403\n",
      "Number of minorities with unfavorable outcomes in manual data(female) :142\n",
      "Number of majorities with unfavorable outcomes in manual data(male) :199\n",
      "The disparate impact metric value on the manual data:0.8997661653092365\n"
     ]
    }
   ],
   "source": [
    "# the label column\n",
    "label = 'Risk'\n",
    "\n",
    "manual_minority_df, manual_majority_df, manual_minority_favorable_df, manual_majority_favorable_df, \\\n",
    "manual_minority_unfavorable_df, manual_majority_unfavorable_df, manual_favorable_minority_rate, manual_favorable_majority_rate = get_data_distribution(scoring_request_df, label)\n",
    "\n",
    "manual_di_value = manual_favorable_minority_rate / manual_favorable_majority_rate\n",
    "\n",
    "print('Number of minorities/unprivileged population in manual data(' + str(minority) + ') :' + str(len(manual_minority_df)))\n",
    "print('Number of majorities/privilaged population in manual data(' + str(majority) + ') :' + str(len(manual_majority_df)))\n",
    "print('Number of minorities with favorable outcomes in manual data(' + str(minority) + ') :' + str(len(manual_minority_favorable_df)))\n",
    "print('Number of majorities with favorable outcomes in manual data(' + str(majority) + ') :' + str(len(manual_majority_favorable_df)))\n",
    "print('Number of minorities with unfavorable outcomes in manual data(' + str(minority) + ') :' + str(len(manual_minority_unfavorable_df)))\n",
    "print('Number of majorities with unfavorable outcomes in manual data(' + str(majority) + ') :' + str(len(manual_majority_unfavorable_df)))\n",
    "\n",
    "\n",
    "print('The disparate impact metric value on the manual data:'+str(manual_di_value))"
   ]
  },
  {
   "cell_type": "code",
   "execution_count": 108,
   "metadata": {},
   "outputs": [],
   "source": [
    "fields = manual_minority_unfavorable_df.columns.tolist()\n",
    "values = manual_minority_unfavorable_df.values.tolist()\n",
    "payload_scoring = {\"fields\": fields, \"values\": values}"
   ]
  },
  {
   "cell_type": "code",
   "execution_count": 109,
   "metadata": {},
   "outputs": [],
   "source": [
    "response = requests.post(URL, data=json.dumps(payload_scoring), headers=headers)"
   ]
  },
  {
   "cell_type": "code",
   "execution_count": 110,
   "metadata": {},
   "outputs": [],
   "source": [
    "scoring_response = response.json()\n",
    "\n",
    "fields = scoring_response['fields']\n",
    "values = scoring_response['values']"
   ]
  },
  {
   "cell_type": "code",
   "execution_count": 113,
   "metadata": {},
   "outputs": [
    {
     "name": "stdout",
     "output_type": "stream",
     "text": [
      "142\n"
     ]
    },
    {
     "data": {
      "text/html": [
       "<div>\n",
       "<style scoped>\n",
       "    .dataframe tbody tr th:only-of-type {\n",
       "        vertical-align: middle;\n",
       "    }\n",
       "\n",
       "    .dataframe tbody tr th {\n",
       "        vertical-align: top;\n",
       "    }\n",
       "\n",
       "    .dataframe thead th {\n",
       "        text-align: right;\n",
       "    }\n",
       "</style>\n",
       "<table border=\"1\" class=\"dataframe\">\n",
       "  <thead>\n",
       "    <tr style=\"text-align: right;\">\n",
       "      <th></th>\n",
       "      <th>CheckingStatus</th>\n",
       "      <th>LoanDuration</th>\n",
       "      <th>CreditHistory</th>\n",
       "      <th>LoanPurpose</th>\n",
       "      <th>LoanAmount</th>\n",
       "      <th>ExistingSavings</th>\n",
       "      <th>EmploymentDuration</th>\n",
       "      <th>InstallmentPercent</th>\n",
       "      <th>Sex</th>\n",
       "      <th>OthersOnLoan</th>\n",
       "      <th>...</th>\n",
       "      <th>Risk</th>\n",
       "      <th>Housing_IX</th>\n",
       "      <th>probability</th>\n",
       "      <th>Telephone_IX</th>\n",
       "      <th>features</th>\n",
       "      <th>InstallmentPlans_IX</th>\n",
       "      <th>Job_IX</th>\n",
       "      <th>EmploymentDuration_IX</th>\n",
       "      <th>ForeignWorker_IX</th>\n",
       "      <th>scoring_id</th>\n",
       "    </tr>\n",
       "  </thead>\n",
       "  <tbody>\n",
       "  </tbody>\n",
       "</table>\n",
       "<p>0 rows × 44 columns</p>\n",
       "</div>"
      ],
      "text/plain": [
       "Empty DataFrame\n",
       "Columns: [CheckingStatus, LoanDuration, CreditHistory, LoanPurpose, LoanAmount, ExistingSavings, EmploymentDuration, InstallmentPercent, Sex, OthersOnLoan, CurrentResidenceDuration, OwnsProperty, Age, InstallmentPlans, Housing, ExistingCreditsCount, Job, Dependents, Telephone, ForeignWorker, debiased_prediction, debiased_probability, debiased_decoded_target, Sex_IX, CheckingStatus_IX, prediction, OwnsProperty_IX, CreditHistory_IX, label, rawPrediction, predictedLabel, ExistingSavings_IX, OthersOnLoan_IX, LoanPurpose_IX, Risk, Housing_IX, probability, Telephone_IX, features, InstallmentPlans_IX, Job_IX, EmploymentDuration_IX, ForeignWorker_IX, scoring_id]\n",
       "Index: []\n",
       "\n",
       "[0 rows x 44 columns]"
      ]
     },
     "execution_count": 113,
     "metadata": {},
     "output_type": "execute_result"
    }
   ],
   "source": [
    "# create a pandas data frame using the scored response\n",
    "scoring_response_df = pd.DataFrame(values, columns = fields)\n",
    "print(len(scoring_response_df))\n",
    "\n",
    "# label = 'predictedLabel'\n",
    "\n",
    "# scored_minority_df, scored_majority_df, scored_minority_favorable_df, scored_majority_favorable_df, \\\n",
    "# scored_minority_unfavorable_df, scored_majority_unfavorable_df, scored_favorable_minority_rate, scored_favorable_majority_rate = get_data_distribution(scoring_response_df, label)\n",
    "\n",
    "# scored_di_value = scored_favorable_minority_rate / scored_favorable_majority_rate\n",
    "\n",
    "# print('Number of minorities/unprivileged population in scored data(' + str(minority) + ') :' + str(len(scored_minority_df)))\n",
    "# print('Number of majorities/privilaged population in scored data(' + str(majority) + ') :' + str(len(scored_majority_df)))\n",
    "# print('Number of minorities with favorable outcomes in scored data(' + str(minority) + ') :' + str(len(scored_minority_favorable_df)))\n",
    "# print('Number of majorities with favorable outcomes in scored data(' + str(majority) + ') :' + str(len(scored_majority_favorable_df)))\n",
    "# print('Number of minorities with unfavorable outcomes in scored data(' + str(minority) + ') :' + str(len(scored_minority_unfavorable_df)))\n",
    "# print('Number of majorities with unfavorable outcomes in scored data(' + str(majority) + ') :' + str(len(scored_majority_unfavorable_df)))\n",
    "# print('The disparate impact metric value on the scored data:'+str(scored_di_value))\n",
    "\n",
    "\n",
    "scoring_response_df[['predictedLabel', 'probability', 'debiased_prediction', 'debiased_probability']]\n",
    "scoring_response_df['predictedLabel'].equals(scoring_response_df['debiased_prediction'])\n",
    "df1 = scoring_response_df.query('predictedLabel != debiased_prediction')\n",
    "df1"
   ]
  },
  {
   "cell_type": "code",
   "execution_count": null,
   "metadata": {},
   "outputs": [],
   "source": []
  }
 ],
 "metadata": {
  "kernelspec": {
   "display_name": "Python 3.6",
   "language": "python",
   "name": "python3"
  },
  "language_info": {
   "codemirror_mode": {
    "name": "ipython",
    "version": 3
   },
   "file_extension": ".py",
   "mimetype": "text/x-python",
   "name": "python",
   "nbconvert_exporter": "python",
   "pygments_lexer": "ipython3",
   "version": "3.6.8"
  }
 },
 "nbformat": 4,
 "nbformat_minor": 1
}
